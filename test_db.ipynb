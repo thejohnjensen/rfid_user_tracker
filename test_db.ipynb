{
 "cells": [
  {
   "cell_type": "code",
   "execution_count": 1,
   "metadata": {},
   "outputs": [
    {
     "name": "stderr",
     "output_type": "stream",
     "text": [
      "/Users/john_jensen/coding/rfid_user_tracker/ENV/lib/python3.6/site-packages/psycopg2/__init__.py:144: UserWarning: The psycopg2 wheel package will be renamed from release 2.8; in order to keep installing from binary please use \"pip install psycopg2-binary\" instead. For details see: <http://initd.org/psycopg/docs/install.html#binary-install-from-pypi>.\n",
      "  \"\"\")\n"
     ]
    }
   ],
   "source": [
    "from rfid_app import db\n",
    "from rfid_app.models import Student, Bus, Route, TripHistory, BusStop, bus_and_routes, bus_stops_and_routes\n",
    "from sqlalchemy import create_engine\n",
    "from sqlalchemy.orm import sessionmaker\n",
    "import pandas as pd"
   ]
  },
  {
   "cell_type": "code",
   "execution_count": 2,
   "metadata": {},
   "outputs": [],
   "source": [
    "# engine = create_engine('postgresql://localhost:5432/rfid_app')\n",
    "# Session = sessionmaker(bind=engine)\n",
    "# session = Session() # just use db.session"
   ]
  },
  {
   "cell_type": "code",
   "execution_count": 3,
   "metadata": {},
   "outputs": [],
   "source": [
    "conn_str='postgresql://localhost:5432/rfid_app'"
   ]
  },
  {
   "cell_type": "code",
   "execution_count": 4,
   "metadata": {},
   "outputs": [
    {
     "data": {
      "text/html": [
       "<div>\n",
       "<style scoped>\n",
       "    .dataframe tbody tr th:only-of-type {\n",
       "        vertical-align: middle;\n",
       "    }\n",
       "\n",
       "    .dataframe tbody tr th {\n",
       "        vertical-align: top;\n",
       "    }\n",
       "\n",
       "    .dataframe thead th {\n",
       "        text-align: right;\n",
       "    }\n",
       "</style>\n",
       "<table border=\"1\" class=\"dataframe\">\n",
       "  <thead>\n",
       "    <tr style=\"text-align: right;\">\n",
       "      <th></th>\n",
       "      <th>first_name</th>\n",
       "      <th>last_name</th>\n",
       "      <th>present</th>\n",
       "      <th>bus_stop</th>\n",
       "      <th>route_name</th>\n",
       "      <th>bus_number</th>\n",
       "    </tr>\n",
       "  </thead>\n",
       "  <tbody>\n",
       "    <tr>\n",
       "      <th>0</th>\n",
       "      <td>bob</td>\n",
       "      <td>boblast</td>\n",
       "      <td>False</td>\n",
       "      <td>mercer</td>\n",
       "      <td>blue</td>\n",
       "      <td>45</td>\n",
       "    </tr>\n",
       "    <tr>\n",
       "      <th>1</th>\n",
       "      <td>sara</td>\n",
       "      <td>omaley</td>\n",
       "      <td>False</td>\n",
       "      <td>greenlake</td>\n",
       "      <td>green</td>\n",
       "      <td>321</td>\n",
       "    </tr>\n",
       "    <tr>\n",
       "      <th>2</th>\n",
       "      <td>steve</td>\n",
       "      <td>mcqueen</td>\n",
       "      <td>False</td>\n",
       "      <td>westlake</td>\n",
       "      <td>green</td>\n",
       "      <td>321</td>\n",
       "    </tr>\n",
       "    <tr>\n",
       "      <th>3</th>\n",
       "      <td>sue</td>\n",
       "      <td>test</td>\n",
       "      <td>False</td>\n",
       "      <td>queenanne</td>\n",
       "      <td>blue</td>\n",
       "      <td>45</td>\n",
       "    </tr>\n",
       "    <tr>\n",
       "      <th>4</th>\n",
       "      <td>tom</td>\n",
       "      <td>cat</td>\n",
       "      <td>False</td>\n",
       "      <td>caphill</td>\n",
       "      <td>orange</td>\n",
       "      <td>99</td>\n",
       "    </tr>\n",
       "  </tbody>\n",
       "</table>\n",
       "</div>"
      ],
      "text/plain": [
       "  first_name last_name  present   bus_stop route_name  bus_number\n",
       "0        bob   boblast    False     mercer       blue          45\n",
       "1       sara    omaley    False  greenlake      green         321\n",
       "2      steve   mcqueen    False   westlake      green         321\n",
       "3        sue      test    False  queenanne       blue          45\n",
       "4        tom       cat    False    caphill     orange          99"
      ]
     },
     "execution_count": 4,
     "metadata": {},
     "output_type": "execute_result"
    }
   ],
   "source": [
    "pd.read_sql('SELECT students.first_name, students.last_name, students.present, \\\n",
    "                bus_stops.name AS bus_stop, routes.name AS route_name, buses.number AS bus_number\\\n",
    "            FROM bus_stops, bus_stop_route, students, routes, buses, bus_route \\\n",
    "            WHERE students.home_stop_id=bus_stop_route.stop_id \\\n",
    "            AND students.home_stop_id=bus_stops.id \\\n",
    "            AND bus_stop_route.route_id=routes.id \\\n",
    "            AND bus_route.bus_id=buses.id \\\n",
    "            AND bus_stop_route.route_id=bus_route.route_id'\n",
    "            , con=conn_str)"
   ]
  },
  {
   "cell_type": "code",
   "execution_count": 5,
   "metadata": {},
   "outputs": [
    {
     "data": {
      "text/html": [
       "<div>\n",
       "<style scoped>\n",
       "    .dataframe tbody tr th:only-of-type {\n",
       "        vertical-align: middle;\n",
       "    }\n",
       "\n",
       "    .dataframe tbody tr th {\n",
       "        vertical-align: top;\n",
       "    }\n",
       "\n",
       "    .dataframe thead th {\n",
       "        text-align: right;\n",
       "    }\n",
       "</style>\n",
       "<table border=\"1\" class=\"dataframe\">\n",
       "  <thead>\n",
       "    <tr style=\"text-align: right;\">\n",
       "      <th></th>\n",
       "      <th>id</th>\n",
       "      <th>name</th>\n",
       "      <th>stop_id</th>\n",
       "      <th>route_id</th>\n",
       "      <th>route_id</th>\n",
       "      <th>bus_id</th>\n",
       "      <th>id</th>\n",
       "      <th>number</th>\n",
       "    </tr>\n",
       "  </thead>\n",
       "  <tbody>\n",
       "    <tr>\n",
       "      <th>0</th>\n",
       "      <td>1</td>\n",
       "      <td>mercer</td>\n",
       "      <td>1</td>\n",
       "      <td>1</td>\n",
       "      <td>1</td>\n",
       "      <td>2</td>\n",
       "      <td>2</td>\n",
       "      <td>45</td>\n",
       "    </tr>\n",
       "  </tbody>\n",
       "</table>\n",
       "</div>"
      ],
      "text/plain": [
       "   id    name  stop_id  route_id  route_id  bus_id  id  number\n",
       "0   1  mercer        1         1         1       2   2      45"
      ]
     },
     "execution_count": 5,
     "metadata": {},
     "output_type": "execute_result"
    }
   ],
   "source": [
    "pd.read_sql('SELECT * \\\n",
    "            FROM bus_stops, bus_stop_route, bus_route, buses \\\n",
    "            WHERE bus_stops.id=bus_stop_route.stop_id \\\n",
    "            AND bus_route.route_id=bus_stop_route.stop_id \\\n",
    "            AND buses.id=bus_route.bus_id \\\n",
    "            AND buses.number=45'\n",
    "            , con=conn_str)"
   ]
  },
  {
   "cell_type": "code",
   "execution_count": 6,
   "metadata": {},
   "outputs": [],
   "source": [
    "bus_stop = pd.read_sql('SELECT bus_stops.name AS bus_stop \\\n",
    "            FROM bus_stops, buses, bus_stop_route, bus_route \\\n",
    "            WHERE buses.number={} \\\n",
    "            AND bus_stops.id=bus_stop_route.stop_id \\\n",
    "            AND bus_stop_route.route_id=bus_route.route_id \\\n",
    "            AND bus_route.bus_id=buses.id'.format(45)\n",
    "            , con=conn_str)"
   ]
  },
  {
   "cell_type": "code",
   "execution_count": 7,
   "metadata": {},
   "outputs": [],
   "source": [
    "b =bus_stop['bus_stop']"
   ]
  },
  {
   "cell_type": "code",
   "execution_count": 8,
   "metadata": {},
   "outputs": [
    {
     "data": {
      "text/plain": [
       "['mercer', 'queenanne']"
      ]
     },
     "execution_count": 8,
     "metadata": {},
     "output_type": "execute_result"
    }
   ],
   "source": [
    "b.tolist()"
   ]
  },
  {
   "cell_type": "code",
   "execution_count": 9,
   "metadata": {},
   "outputs": [
    {
     "data": {
      "text/plain": [
       "45"
      ]
     },
     "execution_count": 9,
     "metadata": {},
     "output_type": "execute_result"
    }
   ],
   "source": [
    "Bus.query.filter_by(number=45).first().number"
   ]
  },
  {
   "cell_type": "code",
   "execution_count": 16,
   "metadata": {},
   "outputs": [
    {
     "data": {
      "text/plain": [
       "[<TripHistory 1>,\n",
       " <TripHistory 2>,\n",
       " <TripHistory 4>,\n",
       " <TripHistory 5>,\n",
       " <TripHistory 3>]"
      ]
     },
     "execution_count": 16,
     "metadata": {},
     "output_type": "execute_result"
    }
   ],
   "source": [
    "TripHistory.query.all()"
   ]
  },
  {
   "cell_type": "code",
   "execution_count": 42,
   "metadata": {},
   "outputs": [
    {
     "data": {
      "text/plain": [
       "[<TripHistory 1>,\n",
       " <TripHistory 2>,\n",
       " <TripHistory 4>,\n",
       " <TripHistory 5>,\n",
       " <TripHistory 3>]"
      ]
     },
     "execution_count": 42,
     "metadata": {},
     "output_type": "execute_result"
    }
   ],
   "source": [
    "t = session.query(TripHistory).all()\n",
    "t"
   ]
  },
  {
   "cell_type": "code",
   "execution_count": 99,
   "metadata": {},
   "outputs": [
    {
     "data": {
      "text/html": [
       "<div>\n",
       "<style scoped>\n",
       "    .dataframe tbody tr th:only-of-type {\n",
       "        vertical-align: middle;\n",
       "    }\n",
       "\n",
       "    .dataframe tbody tr th {\n",
       "        vertical-align: top;\n",
       "    }\n",
       "\n",
       "    .dataframe thead th {\n",
       "        text-align: right;\n",
       "    }\n",
       "</style>\n",
       "<table border=\"1\" class=\"dataframe\">\n",
       "  <thead>\n",
       "    <tr style=\"text-align: right;\">\n",
       "      <th></th>\n",
       "      <th>id</th>\n",
       "      <th>student_id</th>\n",
       "      <th>trip_start</th>\n",
       "      <th>trip_end</th>\n",
       "      <th>bus_stop</th>\n",
       "    </tr>\n",
       "  </thead>\n",
       "  <tbody>\n",
       "    <tr>\n",
       "      <th>0</th>\n",
       "      <td>1</td>\n",
       "      <td>1</td>\n",
       "      <td>2018-04-03 16:55:48.114660</td>\n",
       "      <td>2018-04-03 16:57:55.339066</td>\n",
       "      <td>4</td>\n",
       "    </tr>\n",
       "    <tr>\n",
       "      <th>1</th>\n",
       "      <td>2</td>\n",
       "      <td>2</td>\n",
       "      <td>2018-04-03 17:19:07.046954</td>\n",
       "      <td>2018-04-03 17:18:54.876457</td>\n",
       "      <td>1</td>\n",
       "    </tr>\n",
       "    <tr>\n",
       "      <th>2</th>\n",
       "      <td>4</td>\n",
       "      <td>4</td>\n",
       "      <td>2018-04-03 17:20:36.436413</td>\n",
       "      <td>2018-04-03 17:20:24.866709</td>\n",
       "      <td>2</td>\n",
       "    </tr>\n",
       "    <tr>\n",
       "      <th>3</th>\n",
       "      <td>5</td>\n",
       "      <td>5</td>\n",
       "      <td>2018-04-03 17:22:37.813738</td>\n",
       "      <td>2018-04-03 17:22:24.836973</td>\n",
       "      <td>3</td>\n",
       "    </tr>\n",
       "    <tr>\n",
       "      <th>4</th>\n",
       "      <td>3</td>\n",
       "      <td>3</td>\n",
       "      <td>2018-04-03 17:19:38.837478</td>\n",
       "      <td>2018-04-03 17:23:34.316103</td>\n",
       "      <td>5</td>\n",
       "    </tr>\n",
       "    <tr>\n",
       "      <th>5</th>\n",
       "      <td>7</td>\n",
       "      <td>2</td>\n",
       "      <td>2018-04-11 17:03:06.017930</td>\n",
       "      <td>NaT</td>\n",
       "      <td>4</td>\n",
       "    </tr>\n",
       "    <tr>\n",
       "      <th>6</th>\n",
       "      <td>8</td>\n",
       "      <td>3</td>\n",
       "      <td>2018-04-11 17:04:11.196729</td>\n",
       "      <td>NaT</td>\n",
       "      <td>1</td>\n",
       "    </tr>\n",
       "  </tbody>\n",
       "</table>\n",
       "</div>"
      ],
      "text/plain": [
       "   id  student_id                 trip_start                   trip_end  \\\n",
       "0   1           1 2018-04-03 16:55:48.114660 2018-04-03 16:57:55.339066   \n",
       "1   2           2 2018-04-03 17:19:07.046954 2018-04-03 17:18:54.876457   \n",
       "2   4           4 2018-04-03 17:20:36.436413 2018-04-03 17:20:24.866709   \n",
       "3   5           5 2018-04-03 17:22:37.813738 2018-04-03 17:22:24.836973   \n",
       "4   3           3 2018-04-03 17:19:38.837478 2018-04-03 17:23:34.316103   \n",
       "5   7           2 2018-04-11 17:03:06.017930                        NaT   \n",
       "6   8           3 2018-04-11 17:04:11.196729                        NaT   \n",
       "\n",
       "   bus_stop  \n",
       "0         4  \n",
       "1         1  \n",
       "2         2  \n",
       "3         3  \n",
       "4         5  \n",
       "5         4  \n",
       "6         1  "
      ]
     },
     "execution_count": 99,
     "metadata": {},
     "output_type": "execute_result"
    }
   ],
   "source": [
    "pd.read_sql('SELECT * from trip_history', db.session.bind)"
   ]
  },
  {
   "cell_type": "code",
   "execution_count": 94,
   "metadata": {},
   "outputs": [],
   "source": [
    "trip=TripHistory()\n",
    "trip.student_id=3\n",
    "trip.bus_stop=1\n",
    "db.session.add(trip)\n",
    "db.session.commit()"
   ]
  },
  {
   "cell_type": "code",
   "execution_count": 96,
   "metadata": {},
   "outputs": [
    {
     "data": {
      "text/plain": [
       "[<TripHistory 1>,\n",
       " <TripHistory 2>,\n",
       " <TripHistory 4>,\n",
       " <TripHistory 5>,\n",
       " <TripHistory 3>,\n",
       " <TripHistory 7>,\n",
       " <TripHistory 8>]"
      ]
     },
     "execution_count": 96,
     "metadata": {},
     "output_type": "execute_result"
    }
   ],
   "source": [
    "db.session.query(TripHistory).all()"
   ]
  },
  {
   "cell_type": "code",
   "execution_count": 103,
   "metadata": {},
   "outputs": [],
   "source": [
    "t=db.session.query(TripHistory).all()"
   ]
  },
  {
   "cell_type": "code",
   "execution_count": null,
   "metadata": {},
   "outputs": [],
   "source": [
    "db.session.query(TripHistory).filter_by"
   ]
  },
  {
   "cell_type": "code",
   "execution_count": 98,
   "metadata": {},
   "outputs": [
    {
     "data": {
      "text/plain": [
       "<sqlalchemy.orm.session.Session at 0x1119b1208>"
      ]
     },
     "execution_count": 98,
     "metadata": {},
     "output_type": "execute_result"
    }
   ],
   "source": [
    "session"
   ]
  },
  {
   "cell_type": "code",
   "execution_count": null,
   "metadata": {},
   "outputs": [],
   "source": []
  }
 ],
 "metadata": {
  "kernelspec": {
   "display_name": "Python 3",
   "language": "python",
   "name": "python3"
  },
  "language_info": {
   "codemirror_mode": {
    "name": "ipython",
    "version": 3
   },
   "file_extension": ".py",
   "mimetype": "text/x-python",
   "name": "python",
   "nbconvert_exporter": "python",
   "pygments_lexer": "ipython3",
   "version": "3.6.3"
  }
 },
 "nbformat": 4,
 "nbformat_minor": 2
}
