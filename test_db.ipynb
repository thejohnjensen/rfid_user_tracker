{
 "cells": [
  {
   "cell_type": "code",
   "execution_count": 3,
   "metadata": {},
   "outputs": [],
   "source": [
    "from rfid_app import db\n",
    "from rfid_app.models import Student, Bus, Route, TripHistory, BusStop, bus_and_routes, bus_stops_and_routes\n",
    "from sqlalchemy import create_engine\n",
    "from sqlalchemy.orm import sessionmaker\n",
    "import pandas as pd"
   ]
  },
  {
   "cell_type": "code",
   "execution_count": 4,
   "metadata": {},
   "outputs": [],
   "source": [
    "engine = create_engine('postgresql://localhost:5432/rfid_app')\n",
    "Session = sessionmaker(bind=engine)\n",
    "session = Session()"
   ]
  },
  {
   "cell_type": "code",
   "execution_count": 5,
   "metadata": {},
   "outputs": [],
   "source": [
    "conn_str='postgresql://localhost:5432/rfid_app'"
   ]
  },
  {
   "cell_type": "code",
   "execution_count": 6,
   "metadata": {},
   "outputs": [
    {
     "data": {
      "text/html": [
       "<div>\n",
       "<style scoped>\n",
       "    .dataframe tbody tr th:only-of-type {\n",
       "        vertical-align: middle;\n",
       "    }\n",
       "\n",
       "    .dataframe tbody tr th {\n",
       "        vertical-align: top;\n",
       "    }\n",
       "\n",
       "    .dataframe thead th {\n",
       "        text-align: right;\n",
       "    }\n",
       "</style>\n",
       "<table border=\"1\" class=\"dataframe\">\n",
       "  <thead>\n",
       "    <tr style=\"text-align: right;\">\n",
       "      <th></th>\n",
       "      <th>first_name</th>\n",
       "      <th>last_name</th>\n",
       "      <th>present</th>\n",
       "      <th>bus_stop</th>\n",
       "      <th>route_name</th>\n",
       "      <th>bus_number</th>\n",
       "    </tr>\n",
       "  </thead>\n",
       "  <tbody>\n",
       "    <tr>\n",
       "      <th>0</th>\n",
       "      <td>bob</td>\n",
       "      <td>boblast</td>\n",
       "      <td>False</td>\n",
       "      <td>mercer</td>\n",
       "      <td>blue</td>\n",
       "      <td>45</td>\n",
       "    </tr>\n",
       "    <tr>\n",
       "      <th>1</th>\n",
       "      <td>sara</td>\n",
       "      <td>omaley</td>\n",
       "      <td>False</td>\n",
       "      <td>greenlake</td>\n",
       "      <td>green</td>\n",
       "      <td>321</td>\n",
       "    </tr>\n",
       "    <tr>\n",
       "      <th>2</th>\n",
       "      <td>steve</td>\n",
       "      <td>mcqueen</td>\n",
       "      <td>False</td>\n",
       "      <td>westlake</td>\n",
       "      <td>green</td>\n",
       "      <td>321</td>\n",
       "    </tr>\n",
       "    <tr>\n",
       "      <th>3</th>\n",
       "      <td>sue</td>\n",
       "      <td>test</td>\n",
       "      <td>False</td>\n",
       "      <td>queenanne</td>\n",
       "      <td>blue</td>\n",
       "      <td>45</td>\n",
       "    </tr>\n",
       "    <tr>\n",
       "      <th>4</th>\n",
       "      <td>tom</td>\n",
       "      <td>cat</td>\n",
       "      <td>False</td>\n",
       "      <td>caphill</td>\n",
       "      <td>orange</td>\n",
       "      <td>99</td>\n",
       "    </tr>\n",
       "  </tbody>\n",
       "</table>\n",
       "</div>"
      ],
      "text/plain": [
       "  first_name last_name  present   bus_stop route_name  bus_number\n",
       "0        bob   boblast    False     mercer       blue          45\n",
       "1       sara    omaley    False  greenlake      green         321\n",
       "2      steve   mcqueen    False   westlake      green         321\n",
       "3        sue      test    False  queenanne       blue          45\n",
       "4        tom       cat    False    caphill     orange          99"
      ]
     },
     "execution_count": 6,
     "metadata": {},
     "output_type": "execute_result"
    }
   ],
   "source": [
    "pd.read_sql('SELECT students.first_name, students.last_name, students.present, \\\n",
    "                bus_stops.name AS bus_stop, routes.name AS route_name, buses.number AS bus_number\\\n",
    "            FROM bus_stops, bus_stop_route, students, routes, buses, bus_route \\\n",
    "            WHERE students.home_stop_id=bus_stop_route.stop_id \\\n",
    "            AND students.home_stop_id=bus_stops.id \\\n",
    "            AND bus_stop_route.route_id=routes.id \\\n",
    "            AND bus_route.bus_id=buses.id \\\n",
    "            AND bus_stop_route.route_id=bus_route.route_id'\n",
    "            , con=conn_str)"
   ]
  },
  {
   "cell_type": "code",
   "execution_count": 7,
   "metadata": {},
   "outputs": [
    {
     "data": {
      "text/html": [
       "<div>\n",
       "<style scoped>\n",
       "    .dataframe tbody tr th:only-of-type {\n",
       "        vertical-align: middle;\n",
       "    }\n",
       "\n",
       "    .dataframe tbody tr th {\n",
       "        vertical-align: top;\n",
       "    }\n",
       "\n",
       "    .dataframe thead th {\n",
       "        text-align: right;\n",
       "    }\n",
       "</style>\n",
       "<table border=\"1\" class=\"dataframe\">\n",
       "  <thead>\n",
       "    <tr style=\"text-align: right;\">\n",
       "      <th></th>\n",
       "      <th>id</th>\n",
       "      <th>name</th>\n",
       "      <th>stop_id</th>\n",
       "      <th>route_id</th>\n",
       "      <th>route_id</th>\n",
       "      <th>bus_id</th>\n",
       "      <th>id</th>\n",
       "      <th>number</th>\n",
       "    </tr>\n",
       "  </thead>\n",
       "  <tbody>\n",
       "    <tr>\n",
       "      <th>0</th>\n",
       "      <td>1</td>\n",
       "      <td>mercer</td>\n",
       "      <td>1</td>\n",
       "      <td>1</td>\n",
       "      <td>1</td>\n",
       "      <td>2</td>\n",
       "      <td>2</td>\n",
       "      <td>45</td>\n",
       "    </tr>\n",
       "  </tbody>\n",
       "</table>\n",
       "</div>"
      ],
      "text/plain": [
       "   id    name  stop_id  route_id  route_id  bus_id  id  number\n",
       "0   1  mercer        1         1         1       2   2      45"
      ]
     },
     "execution_count": 7,
     "metadata": {},
     "output_type": "execute_result"
    }
   ],
   "source": [
    "pd.read_sql('SELECT * \\\n",
    "            FROM bus_stops, bus_stop_route, bus_route, buses \\\n",
    "            WHERE bus_stops.id=bus_stop_route.stop_id \\\n",
    "            AND bus_route.route_id=bus_stop_route.stop_id \\\n",
    "            AND buses.id=bus_route.bus_id \\\n",
    "            AND buses.number=45'\n",
    "            , con=conn_str)"
   ]
  },
  {
   "cell_type": "code",
   "execution_count": 29,
   "metadata": {},
   "outputs": [],
   "source": [
    "bus_stop = pd.read_sql('SELECT bus_stops.name AS bus_stop \\\n",
    "            FROM bus_stops, buses, bus_stop_route, bus_route \\\n",
    "            WHERE buses.number={} \\\n",
    "            AND bus_stops.id=bus_stop_route.stop_id \\\n",
    "            AND bus_stop_route.route_id=bus_route.route_id \\\n",
    "            AND bus_route.bus_id=buses.id'.format(45)\n",
    "            , con=conn_str)"
   ]
  },
  {
   "cell_type": "code",
   "execution_count": 36,
   "metadata": {},
   "outputs": [],
   "source": [
    "b =bus_stop['bus_stop']"
   ]
  },
  {
   "cell_type": "code",
   "execution_count": 37,
   "metadata": {},
   "outputs": [
    {
     "data": {
      "text/plain": [
       "['mercer', 'queenanne']"
      ]
     },
     "execution_count": 37,
     "metadata": {},
     "output_type": "execute_result"
    }
   ],
   "source": [
    "b.tolist()"
   ]
  },
  {
   "cell_type": "code",
   "execution_count": 42,
   "metadata": {},
   "outputs": [
    {
     "data": {
      "text/plain": [
       "45"
      ]
     },
     "execution_count": 42,
     "metadata": {},
     "output_type": "execute_result"
    }
   ],
   "source": [
    "Bus.query.filter_by(number=45).first().number"
   ]
  },
  {
   "cell_type": "code",
   "execution_count": null,
   "metadata": {},
   "outputs": [],
   "source": []
  },
  {
   "cell_type": "code",
   "execution_count": null,
   "metadata": {},
   "outputs": [],
   "source": []
  },
  {
   "cell_type": "code",
   "execution_count": null,
   "metadata": {},
   "outputs": [],
   "source": []
  }
 ],
 "metadata": {
  "kernelspec": {
   "display_name": "Python 3",
   "language": "python",
   "name": "python3"
  },
  "language_info": {
   "codemirror_mode": {
    "name": "ipython",
    "version": 3
   },
   "file_extension": ".py",
   "mimetype": "text/x-python",
   "name": "python",
   "nbconvert_exporter": "python",
   "pygments_lexer": "ipython3",
   "version": "3.6.3"
  }
 },
 "nbformat": 4,
 "nbformat_minor": 2
}
